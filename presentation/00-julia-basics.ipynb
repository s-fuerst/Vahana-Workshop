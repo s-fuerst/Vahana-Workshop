{
 "cells": [
  {
   "cell_type": "markdown",
   "id": "d18955ca",
   "metadata": {},
   "source": [
    "# Scope of this Tutorial & Other Resources\n",
    "\n",
    "This tutorial covers only a small subset of Julia that is necessary for completing the Vahana workshop exercises. While we'll introduce certain types and concepts, we won't delve into deeper aspects like Julia's type system or advanced language features.\n",
    "\n",
    "For a comprehensive understanding of Julia, please refer to:\n",
    "- [The official Julia documentation](https://docs.julialang.org/en/v1/)\n",
    "- [A beginner-friendly tutorial with VSCode introduction](https://www.matecdev.com/posts/julia-introduction-vscode.html)\n",
    "- [An in-depth MOOC: \"Introduction to Scientific Programming and Machine Learning with Julia\"](https://sylvaticus.github.io/SPMLJ/stable/)\n",
    "\n"
   ]
  },
  {
   "cell_type": "markdown",
   "id": "bc0d1d18",
   "metadata": {},
   "source": [
    "# Types\n",
    "## Common Primitive Types in Julia\n",
    "\n",
    "Julia has several built-in primitive types that are commonly used:\n",
    "\n",
    "### Integers\n",
    "Int64 is the default on 64-bit systems"
   ]
  },
  {
   "cell_type": "code",
   "execution_count": 1,
   "id": "e4b09a45",
   "metadata": {},
   "outputs": [
    {
     "data": {
      "text/plain": [
       "Int64"
      ]
     },
     "metadata": {},
     "output_type": "display_data"
    }
   ],
   "source": [
    "x = 42\n",
    "typeof(x)"
   ]
  },
  {
   "cell_type": "markdown",
   "id": "e921a928",
   "metadata": {},
   "source": [
    "There are also Int8, Int16, Int32, and their unsigned counterparts (UInt8, UInt16, UInt32, UInt64).\n",
    "\n",
    "### Floating-point numbers\n",
    "Float64 (double precision) is the default"
   ]
  },
  {
   "cell_type": "code",
   "execution_count": 2,
   "id": "17abf53f",
   "metadata": {},
   "outputs": [
    {
     "data": {
      "text/plain": [
       "Float64"
      ]
     },
     "metadata": {},
     "output_type": "display_data"
    }
   ],
   "source": [
    "y = 3.14\n",
    "typeof(y)"
   ]
  },
  {
   "cell_type": "markdown",
   "id": "1f6d6508",
   "metadata": {},
   "source": [
    "### Boolean"
   ]
  },
  {
   "cell_type": "code",
   "execution_count": 3,
   "id": "df9bcbd4",
   "metadata": {},
   "outputs": [
    {
     "data": {
      "text/plain": [
       "Bool"
      ]
     },
     "metadata": {},
     "output_type": "display_data"
    }
   ],
   "source": [
    "is_true = true\n",
    "typeof(is_true)"
   ]
  },
  {
   "cell_type": "markdown",
   "id": "a18a18d2",
   "metadata": {},
   "source": [
    "### Strings and Interpolation\n",
    "Strings can be created with double quotes. Julia provides powerful string interpolation using the `$` symbol:\n"
   ]
  },
  {
   "cell_type": "code",
   "execution_count": 4,
   "id": "79d96ff4",
   "metadata": {},
   "outputs": [
    {
     "data": {
      "text/plain": [
       "\"Hello, Julia\""
      ]
     },
     "metadata": {},
     "output_type": "display_data"
    }
   ],
   "source": [
    "name = \"Julia\"\n",
    "\"Hello, $name\"  "
   ]
  },
  {
   "cell_type": "markdown",
   "id": "399baf82",
   "metadata": {},
   "source": [
    "Expressions use $():\n"
   ]
  },
  {
   "cell_type": "code",
   "execution_count": 5,
   "id": "3f292d4d",
   "metadata": {},
   "outputs": [
    {
     "data": {
      "text/plain": [
       "\"The sum of 10 and 20 is 30\""
      ]
     },
     "metadata": {},
     "output_type": "display_data"
    }
   ],
   "source": [
    "x = 10\n",
    "y = 20\n",
    "\"The sum of $x and $y is $(x + y)\" "
   ]
  },
  {
   "cell_type": "markdown",
   "id": "712bccae",
   "metadata": {},
   "source": [
    "### Symbols\n",
    "Symbols are immutable names prefixed with a colon. They are commonly used as identifiers or for dictionary keys.\n"
   ]
  },
  {
   "cell_type": "code",
   "execution_count": 6,
   "id": "21cc5677",
   "metadata": {},
   "outputs": [
    {
     "data": {
      "text/plain": [
       "Symbol"
      ]
     },
     "metadata": {},
     "output_type": "display_data"
    }
   ],
   "source": [
    "sym = :my_symbol\n",
    "typeof(sym)  "
   ]
  },
  {
   "cell_type": "markdown",
   "id": "4a20ef5b",
   "metadata": {},
   "source": [
    "### Tuples\n",
    "Tuples are immutable fixed-length containers. They can be constructed with parentheses:\n"
   ]
  },
  {
   "cell_type": "code",
   "execution_count": 7,
   "id": "3ff1f20b",
   "metadata": {},
   "outputs": [
    {
     "data": {
      "text/plain": [
       "Tuple{Float64, Float64}"
      ]
     },
     "metadata": {},
     "output_type": "display_data"
    }
   ],
   "source": [
    "point = (1.0, 2.0)\n",
    "typeof(point)  "
   ]
  },
  {
   "cell_type": "code",
   "execution_count": 8,
   "id": "f6bf017e",
   "metadata": {},
   "outputs": [
    {
     "data": {
      "text/plain": [
       "1.0"
      ]
     },
     "metadata": {},
     "output_type": "display_data"
    }
   ],
   "source": [
    "# Accessing elements (1-based indexing)\n",
    "x = point[1]  # 1.0"
   ]
  },
  {
   "cell_type": "markdown",
   "id": "6b2755f2",
   "metadata": {},
   "source": [
    "## Composite Types\n",
    "Composite types are called records, structs, or objects in various languages. A composite type is a collection of named fields, an instance of which can be treated as a single value. Type annotations in struct definitions are optional in Julia.\n"
   ]
  },
  {
   "cell_type": "code",
   "execution_count": 9,
   "id": "45e11216",
   "metadata": {},
   "outputs": [
    {
     "data": {
      "text/plain": [
       "Point(0.2, 0.4)"
      ]
     },
     "metadata": {},
     "output_type": "display_data"
    }
   ],
   "source": [
    "struct Point\n",
    "    x::Float64\n",
    "    y::Float64\n",
    "end\n",
    "\n",
    "p = Point(0.2, 0.4)"
   ]
  },
  {
   "cell_type": "markdown",
   "id": "c62e9484",
   "metadata": {},
   "source": [
    "By default, structs in Julia are immutable. This means that once an instance is created, its fields cannot be modified.\n"
   ]
  },
  {
   "cell_type": "code",
   "execution_count": 10,
   "id": "799f071a",
   "metadata": {},
   "outputs": [
    {
     "ename": "ErrorException",
     "evalue": "setfield!: immutable struct of type Point cannot be changed",
     "output_type": "error",
     "traceback": [
      "setfield!: immutable struct of type Point cannot be changed\n",
      "\n",
      "Stacktrace:\n",
      " [1] setproperty!(x::Point, f::Symbol, v::Float64)\n",
      "   @ Base ./Base.jl:53\n",
      " [2] top-level scope\n",
      "   @ ~/vahana-workshop-preperation/jl_notebook_cell_df34fa98e69747e1a8f8a730347b8e2f_X25sZmlsZQ==.jl:1"
     ]
    }
   ],
   "source": [
    "p.x = 0.3"
   ]
  },
  {
   "cell_type": "markdown",
   "id": "34f508d9",
   "metadata": {},
   "source": [
    "To create a mutable struct, you need to explicitly use the 'mutable' keyword."
   ]
  },
  {
   "cell_type": "code",
   "execution_count": 11,
   "id": "b44edf9b",
   "metadata": {},
   "outputs": [
    {
     "data": {
      "text/plain": [
       "0.3"
      ]
     },
     "metadata": {},
     "output_type": "display_data"
    }
   ],
   "source": [
    "mutable struct MutablePoint\n",
    "    x::Float64\n",
    "    y::Float64\n",
    "end\n",
    "\n",
    "p = MutablePoint(0.2, 0.4)\n",
    "p.x = 0.3"
   ]
  },
  {
   "cell_type": "markdown",
   "id": "448c6d1a",
   "metadata": {},
   "source": [
    "## Parametric Types\n",
    "Parametric types in Julia allow type definitions to include type parameters, enabling generic programming with type safety and performance optimization.\n"
   ]
  },
  {
   "cell_type": "code",
   "execution_count": 12,
   "id": "1195bcd9",
   "metadata": {},
   "outputs": [
    {
     "data": {
      "text/plain": [
       "Vector{Any}\u001b[90m (alias for \u001b[39m\u001b[90mArray{Any, 1}\u001b[39m\u001b[90m)\u001b[39m"
      ]
     },
     "metadata": {},
     "output_type": "display_data"
    }
   ],
   "source": [
    "vec = Vector() \n",
    "push!(vec, 1.2)\n",
    "typeof(vec)"
   ]
  },
  {
   "cell_type": "code",
   "execution_count": 13,
   "id": "f7db5899",
   "metadata": {},
   "outputs": [
    {
     "data": {
      "text/plain": [
       "Vector{Float64}\u001b[90m (alias for \u001b[39m\u001b[90mArray{Float64, 1}\u001b[39m\u001b[90m)\u001b[39m"
      ]
     },
     "metadata": {},
     "output_type": "display_data"
    }
   ],
   "source": [
    "vec = Vector{Float64}() # alternative vec = Float64[]\n",
    "push!(vec, 1.2)\n",
    "typeof(vec)"
   ]
  },
  {
   "cell_type": "code",
   "execution_count": 14,
   "id": "2cbc7490",
   "metadata": {},
   "outputs": [
    {
     "ename": "MethodError",
     "evalue": "MethodError: no method matching PPoint(::Int64, ::Float64)\nThe type `PPoint` exists, but no method is defined for this combination of argument types when trying to construct it.\n\nClosest candidates are:\n  PPoint(::T, !Matched::T) where T\n   @ Main ~/vahana-workshop-preperation/jl_notebook_cell_df34fa98e69747e1a8f8a730347b8e2f_X34sZmlsZQ==.jl:2\n",
     "output_type": "error",
     "traceback": [
      "MethodError: no method matching PPoint(::Int64, ::Float64)\n",
      "The type `PPoint` exists, but no method is defined for this combination of argument types when trying to construct it.\n",
      "\n",
      "Closest candidates are:\n",
      "  PPoint(::T, !Matched::T) where T\n",
      "   @ Main ~/vahana-workshop-preperation/jl_notebook_cell_df34fa98e69747e1a8f8a730347b8e2f_X34sZmlsZQ==.jl:2\n",
      "\n",
      "\n",
      "Stacktrace:\n",
      " [1] top-level scope\n",
      "   @ ~/vahana-workshop-preperation/jl_notebook_cell_df34fa98e69747e1a8f8a730347b8e2f_X34sZmlsZQ==.jl:5"
     ]
    }
   ],
   "source": [
    "struct PPoint{T}\n",
    "    x::T\n",
    "    y::T\n",
    "end\n",
    "PPoint(1, 2.3)"
   ]
  },
  {
   "cell_type": "markdown",
   "id": "4a0aaf8c",
   "metadata": {},
   "source": [
    "## Bits Types\n",
    "Bits types in Julia are types whose data is represented as a sequence of bits,\n",
    "without any references to other values. They are efficient for storage and computation.\n",
    "\n",
    "Examples of bits types include all primitive types and structs containing only bits types\n",
    "(The About package can be used to investigate any Julia object.) \n"
   ]
  },
  {
   "cell_type": "code",
   "execution_count": 15,
   "id": "340b61c8",
   "metadata": {},
   "outputs": [
    {
     "name": "stderr",
     "output_type": "stream",
     "text": [
      "Concrete DataType defined in \u001b[91mMain\u001b[39m, 16B\n",
      "  Point \u001b[34m<:\u001b[39m \u001b[33mAny\u001b[39m\n",
      "\n",
      "Struct with \u001b[1m2\u001b[22m fields:\n",
      "\u001b[34m•\u001b[39m \u001b[94mx\u001b[39m \u001b[36m \u001b[39mFloat64\n",
      "\u001b[34m•\u001b[39m \u001b[92my\u001b[39m \u001b[36m \u001b[39mFloat64\n",
      "\n",
      " \u001b[92m■■■■■■■■■■■■■■■■■■■■■■■■■■■■■■■■■■■\u001b[93m■■■■■■■■■■■■■■■■■■■■■■■■■■■■■■■■■■■\u001b[39m\n",
      "                 \u001b[92m8B\u001b[39m                                 \u001b[93m8B\u001b[39m                 \n"
     ]
    }
   ],
   "source": [
    "using About\n",
    "about(Point)"
   ]
  },
  {
   "cell_type": "markdown",
   "id": "79dca26d",
   "metadata": {},
   "source": [
    "When we create an composite type without typed fields, we can see that this type contains references (pointers)"
   ]
  },
  {
   "cell_type": "code",
   "execution_count": 16,
   "id": "a635d91b",
   "metadata": {},
   "outputs": [
    {
     "name": "stderr",
     "output_type": "stream",
     "text": [
      "UntypedPoint (\u001b[34m<:\u001b[39m \u001b[33mAny\u001b[39m), occupies \u001b[1m16B\u001b[22m directly (referencing \u001b[1m32B\u001b[22m in total)\n",
      " \u001b[94mx\u001b[90m::\u001b[94mAny 8B\u001b[39m \u001b[36mPtr?\u001b[39m \u001b[94m0\u001b[39m\n",
      " \u001b[92my\u001b[90m::\u001b[92mAny 8B\u001b[39m \u001b[36mPtr?\u001b[39m \u001b[92m2\u001b[39m\n",
      "\n",
      " \u001b[36m■■■■■■■■■■■■■■■■■■■■■■■■■■■■■■■■■■■■■■■■■■■■■■■■■■■■■■■■■■■■■■■■■■■■■■\u001b[39m\u001b[22m\n",
      "                  \u001b[92m\u001b[1m*\u001b[39m\u001b[22m                                  \u001b[93m\u001b[1m*\u001b[39m\u001b[22m                 \n",
      "\n",
      " \u001b[36m\u001b[1m*\u001b[39m\u001b[22m = \u001b[36mPointer\u001b[39m (8B)\u001b[22m\n"
     ]
    }
   ],
   "source": [
    "struct UntypedPoint\n",
    "    x\n",
    "    y\n",
    "end\n",
    "\n",
    "up = UntypedPoint(0, 2)\n",
    "about(up)"
   ]
  },
  {
   "cell_type": "markdown",
   "id": "18c7164b",
   "metadata": {},
   "source": [
    "\n",
    "\n",
    "**In Vahana.jl, all agent (and edge) types must be immutable bits types!**\n",
    "\n",
    "Which implies that types with a flexible size like Vectors or Strings can not be a field of an agent. \n"
   ]
  },
  {
   "cell_type": "code",
   "execution_count": 17,
   "id": "0a61ac22",
   "metadata": {},
   "outputs": [
    {
     "data": {
      "text/plain": [
       "false"
      ]
     },
     "metadata": {},
     "output_type": "display_data"
    }
   ],
   "source": [
    "isbitstype(Vector)"
   ]
  },
  {
   "cell_type": "code",
   "execution_count": 18,
   "id": "d7f7bd07",
   "metadata": {},
   "outputs": [
    {
     "data": {
      "text/plain": [
       "false"
      ]
     },
     "metadata": {},
     "output_type": "display_data"
    }
   ],
   "source": [
    "isbitstype(String)"
   ]
  },
  {
   "cell_type": "markdown",
   "id": "47e93c1c",
   "metadata": {},
   "source": [
    "# Functions"
   ]
  },
  {
   "cell_type": "markdown",
   "id": "13a85aea",
   "metadata": {},
   "source": [
    "Functions in Julia can be defined in several ways. Here are the most common forms:\n"
   ]
  },
  {
   "cell_type": "code",
   "execution_count": 19,
   "id": "c4050e0c",
   "metadata": {},
   "outputs": [
    {
     "data": {
      "text/plain": [
       "#11 (generic function with 1 method)"
      ]
     },
     "metadata": {},
     "output_type": "display_data"
    }
   ],
   "source": [
    "# Basic function definition\n",
    "function add(x, y)\n",
    "    return x + y\n",
    "end\n",
    "\n",
    "# Compact one-line form\n",
    "add_compact(x, y) = x + y\n",
    "\n",
    "# Anonymous function\n",
    "x -> x^2\n"
   ]
  },
  {
   "cell_type": "markdown",
   "id": "937b9156",
   "metadata": {},
   "source": [
    "Functions automatically return the value of the last expression. The `return` keyword is optional:\n"
   ]
  },
  {
   "cell_type": "code",
   "execution_count": 20,
   "id": "4d7276e8",
   "metadata": {},
   "outputs": [
    {
     "data": {
      "text/plain": [
       "add (generic function with 1 method)"
      ]
     },
     "metadata": {},
     "output_type": "display_data"
    }
   ],
   "source": [
    "function add(x, y)\n",
    "    x + y\n",
    "end"
   ]
  },
  {
   "cell_type": "markdown",
   "id": "20351b34",
   "metadata": {},
   "source": [
    "Arguments can have default values:\n"
   ]
  },
  {
   "cell_type": "code",
   "execution_count": 21,
   "id": "865082a0",
   "metadata": {},
   "outputs": [
    {
     "data": {
      "text/plain": [
       "power (generic function with 2 methods)"
      ]
     },
     "metadata": {},
     "output_type": "display_data"
    }
   ],
   "source": [
    "function power(x, n=2)\n",
    "    x^n\n",
    "end\n"
   ]
  },
  {
   "cell_type": "markdown",
   "id": "735edadd",
   "metadata": {},
   "source": [
    "Arguments and return values can have type annotations using `::`\n"
   ]
  },
  {
   "cell_type": "code",
   "execution_count": 22,
   "id": "b0eaf71d",
   "metadata": {},
   "outputs": [
    {
     "data": {
      "text/plain": [
       "add (generic function with 2 methods)"
      ]
     },
     "metadata": {},
     "output_type": "display_data"
    }
   ],
   "source": [
    "# Function with type annotations\n",
    "function add(x::Float64, y::Float64)::Float64\n",
    "    return x + y\n",
    "end"
   ]
  },
  {
   "cell_type": "markdown",
   "id": "0093216b",
   "metadata": {},
   "source": [
    "However, it's more common in Julia to omit type annotations unless they're needed for dispatch (will be explained soon) or clarity. This is because Julia's type inference is very powerful, and code without explicit types is often more generic and reusable while maintaining performance.\n"
   ]
  },
  {
   "cell_type": "markdown",
   "id": "c4925a84",
   "metadata": {},
   "source": [
    "## Keyword arguments\n",
    "\n",
    "Keyword arguments follow a semicolon in the function definition and are called by their name:\n"
   ]
  },
  {
   "cell_type": "code",
   "execution_count": 23,
   "id": "d1cdb84a",
   "metadata": {},
   "outputs": [],
   "source": [
    "function plot_point(x, y; color=\"black\", size=1)\n",
    "    # ... plotting code ...\n",
    "end\n",
    "\n",
    "# Calling with keyword arguments\n",
    "plot_point(2, 3; color=\"red\")\n",
    "plot_point(2, 3; size=2)\n",
    "plot_point(2, 3; color=\"blue\", size=2)"
   ]
  },
  {
   "cell_type": "markdown",
   "id": "1c863b74",
   "metadata": {},
   "source": [
    "## Methods / Multiple dispatch"
   ]
  },
  {
   "cell_type": "markdown",
   "id": "ee159ccc",
   "metadata": {},
   "source": [
    "Julia uses multiple dispatch, where a function can have different methods depending on the types of its arguments:\n"
   ]
  },
  {
   "cell_type": "code",
   "execution_count": 24,
   "id": "f11c179d",
   "metadata": {},
   "outputs": [
    {
     "data": {
      "text/plain": [
       "\"First player wins!\""
      ]
     },
     "metadata": {},
     "output_type": "display_data"
    }
   ],
   "source": [
    "# Different methods for the same function name\n",
    "struct Rock end\n",
    "struct Paper end\n",
    "struct Scissors end\n",
    "\n",
    "# Define winning rules using multiple dispatch\n",
    "beats(::Rock, ::Scissors) = true\n",
    "beats(::Scissors, ::Paper) = true\n",
    "beats(::Paper, ::Rock) = true\n",
    "beats(_, _) = false # `_` is conventionally used as name when the argument  won't be used in the function\n",
    "\n",
    "# Game function\n",
    "function play(a, b)\n",
    "    if beats(a, b)\n",
    "        \"First player wins!\"\n",
    "    elseif beats(b, a)\n",
    "        \"Second player wins!\"\n",
    "    else\n",
    "        \"It's a tie!\"\n",
    "    end\n",
    "end\n",
    "\n",
    "# Usage\n",
    "play(Rock(), Scissors())     "
   ]
  },
  {
   "cell_type": "code",
   "execution_count": 25,
   "id": "47519017",
   "metadata": {},
   "outputs": [
    {
     "data": {
      "text/plain": [
       "\"Second player wins!\""
      ]
     },
     "metadata": {},
     "output_type": "display_data"
    }
   ],
   "source": [
    "play(Rock(), Paper()) "
   ]
  },
  {
   "cell_type": "code",
   "execution_count": 26,
   "id": "3ff386dd",
   "metadata": {},
   "outputs": [
    {
     "data": {
      "text/plain": [
       "\"It's a tie!\""
      ]
     },
     "metadata": {},
     "output_type": "display_data"
    }
   ],
   "source": [
    "play(Rock(), Rock())  "
   ]
  },
  {
   "cell_type": "markdown",
   "id": "8f940826",
   "metadata": {},
   "source": [
    "Type annotations in methods can be mixed - you only need to specify types for arguments that should participate in dispatch.\n"
   ]
  },
  {
   "cell_type": "markdown",
   "id": "a00599fc",
   "metadata": {},
   "source": [
    "## Function Names with `!`\n",
    "\n",
    "In Julia, functions that modify their arguments end with `!` by convention. This is a naming convention, not a language feature:"
   ]
  },
  {
   "cell_type": "code",
   "execution_count": 27,
   "id": "09027fd4",
   "metadata": {},
   "outputs": [
    {
     "data": {
      "text/plain": [
       "3-element Vector{Int64}:\n",
       " 3\n",
       " 1\n",
       " 2"
      ]
     },
     "metadata": {},
     "output_type": "display_data"
    }
   ],
   "source": [
    "# Non-mutating function creates a new array\n",
    "vec = [3, 1, 2]\n",
    "sort(vec)    # returns [1, 2, 3], original unchanged\n",
    "vec"
   ]
  },
  {
   "cell_type": "code",
   "execution_count": 28,
   "id": "308d979e",
   "metadata": {},
   "outputs": [
    {
     "data": {
      "text/plain": [
       "3-element Vector{Int64}:\n",
       " 1\n",
       " 2\n",
       " 3"
      ]
     },
     "metadata": {},
     "output_type": "display_data"
    }
   ],
   "source": [
    "# Mutating function modifies the input array\n",
    "sort!(vec)  \n",
    "vec"
   ]
  },
  {
   "cell_type": "markdown",
   "id": "33633bf1",
   "metadata": {},
   "source": [
    "## Pipes\n",
    "The pipe operator `|>` allows you to chain operations, making code more readable by following a left-to-right flow:\n"
   ]
  },
  {
   "cell_type": "code",
   "execution_count": 29,
   "id": "d465f592",
   "metadata": {},
   "outputs": [
    {
     "data": {
      "text/plain": [
       "2.449489742783178"
      ]
     },
     "metadata": {},
     "output_type": "display_data"
    }
   ],
   "source": [
    "[1,2,3] |> sum |> sqrt # this is equivalent to sqrt(sum([1,2,3]))"
   ]
  },
  {
   "cell_type": "markdown",
   "id": "02b0e94f",
   "metadata": {},
   "source": [
    "## Macros\n",
    "Macros are prefixed with `@` and modify code before it runs. Using common macros is straightforward:\n"
   ]
  },
  {
   "cell_type": "code",
   "execution_count": 30,
   "id": "5c816dc9",
   "metadata": {},
   "outputs": [],
   "source": [
    "x = 5\n",
    "@assert x > 0 \"x must be positiv\"\n"
   ]
  },
  {
   "cell_type": "markdown",
   "id": "fab2bb73",
   "metadata": {},
   "source": [
    "can be written also as:"
   ]
  },
  {
   "cell_type": "code",
   "execution_count": 31,
   "id": "0d286e50",
   "metadata": {},
   "outputs": [],
   "source": [
    "@assert(x > 0, \"x must be positiv\")"
   ]
  },
  {
   "cell_type": "markdown",
   "id": "38f26823",
   "metadata": {},
   "source": [
    "# Functional programming constructs: `filter`, `map`, `reduce`"
   ]
  },
  {
   "cell_type": "markdown",
   "id": "8f5245d2",
   "metadata": {},
   "source": [
    "These functions come from functional programming paradigms. While they can be rewritten using loops, \n",
    "they often lead to more concise and readable code. Since Vahana.jl provides an own implementation \n",
    "of the mapreduce patterns, it's worth understanding them:\n",
    "\n",
    "## Filter\n",
    "`filter` creates a new collection containing only elements that satisfy a predicate:"
   ]
  },
  {
   "cell_type": "code",
   "execution_count": 32,
   "id": "cb8b23f6",
   "metadata": {},
   "outputs": [
    {
     "data": {
      "text/plain": [
       "3-element Vector{Int64}:\n",
       " 2\n",
       " 4\n",
       " 6"
      ]
     },
     "metadata": {},
     "output_type": "display_data"
    }
   ],
   "source": [
    "numbers = [1, 2, 3, 4, 5, 6]\n",
    "even_numbers = filter(x -> x % 2 == 0, numbers) "
   ]
  },
  {
   "cell_type": "markdown",
   "id": "67485727",
   "metadata": {},
   "source": [
    "\n",
    "## Map\n",
    "`map` applies a function to each element of a collection:"
   ]
  },
  {
   "cell_type": "code",
   "execution_count": 33,
   "id": "c60b94bb",
   "metadata": {},
   "outputs": [
    {
     "data": {
      "text/plain": [
       "3-element Vector{Int64}:\n",
       " 1\n",
       " 4\n",
       " 9"
      ]
     },
     "metadata": {},
     "output_type": "display_data"
    }
   ],
   "source": [
    "numbers = [1, 2, 3]\n",
    "squares = map(x -> x^2, numbers) "
   ]
  },
  {
   "cell_type": "markdown",
   "id": "2c7411d8",
   "metadata": {},
   "source": [
    "## Reduce\n",
    "`reduce` combines elements of a collection using a binary function:\n"
   ]
  },
  {
   "cell_type": "code",
   "execution_count": 34,
   "id": "94729450",
   "metadata": {},
   "outputs": [
    {
     "data": {
      "text/plain": [
       "10"
      ]
     },
     "metadata": {},
     "output_type": "display_data"
    }
   ],
   "source": [
    "numbers = [1, 2, 3, 4]\n",
    "reduce(+, numbers)  "
   ]
  },
  {
   "cell_type": "markdown",
   "id": "79e70da5",
   "metadata": {},
   "source": [
    "## MapReduce\n",
    "`mapreduce` combines map and reduce into a single operation:\n"
   ]
  },
  {
   "cell_type": "code",
   "execution_count": 35,
   "id": "5d48dd10",
   "metadata": {},
   "outputs": [
    {
     "data": {
      "text/plain": [
       "30"
      ]
     },
     "metadata": {},
     "output_type": "display_data"
    }
   ],
   "source": [
    "numbers = [1, 2, 3, 4]\n",
    "mapreduce(x -> x^2, +, numbers)  # equivalent to reduce(+, map(x -> x^2, numbers))"
   ]
  },
  {
   "cell_type": "markdown",
   "id": "22484054",
   "metadata": {},
   "source": [
    "## Do-Block Syntax for Function Arguments \n",
    "The `do` syntax provides a alternative way to write function arguments that are themselves (anonymous) functions. Since the first argument of functional constructs like `map`, `filter`, and `reduce` is always a function, the `do` notation works particularly well with them:"
   ]
  },
  {
   "cell_type": "code",
   "execution_count": 36,
   "id": "48c0c3ce",
   "metadata": {},
   "outputs": [
    {
     "data": {
      "text/plain": [
       "4-element Vector{Int64}:\n",
       "  1\n",
       "  4\n",
       " 27\n",
       " 16"
      ]
     },
     "metadata": {},
     "output_type": "display_data"
    }
   ],
   "source": [
    "numbers = [1, 2, 3, 4]\n",
    "\n",
    "# Single argument example\n",
    "map(numbers) do x\n",
    "    if x % 2 == 0\n",
    "        x^2\n",
    "    else\n",
    "        x^3\n",
    "    end\n",
    "end  "
   ]
  },
  {
   "cell_type": "code",
   "execution_count": 37,
   "id": "414ddc70",
   "metadata": {},
   "outputs": [
    {
     "data": {
      "text/plain": [
       "3-element Vector{Int64}:\n",
       " 3\n",
       " 5\n",
       " 7"
      ]
     },
     "metadata": {},
     "output_type": "display_data"
    }
   ],
   "source": [
    "# Multiple arguments example\n",
    "map([2,3,4], [1,2,3]) do x, y\n",
    "    x + y \n",
    "end "
   ]
  },
  {
   "cell_type": "markdown",
   "id": "478f951a",
   "metadata": {},
   "source": [
    "# Control Flow\n",
    "\n",
    "## Conditional Statements\n",
    "\n",
    "### if expression\n",
    "\n",
    "Julia uses `if`, `elseif`, and `else` for conditional execution. The condition must evaluate to a `Bool`. `if-elseif-else` blocks are expressions that return a value - specifically, the value of the last executed expression in the chosen branch:\n"
   ]
  },
  {
   "cell_type": "code",
   "execution_count": 38,
   "id": "9ae1761b",
   "metadata": {},
   "outputs": [
    {
     "data": {
      "text/plain": [
       "\"negative\""
      ]
     },
     "metadata": {},
     "output_type": "display_data"
    }
   ],
   "source": [
    "function sign_description(x)\n",
    "    if x < 0\n",
    "        \"negative\"\n",
    "    elseif x == 0\n",
    "        \"zero\"\n",
    "    else\n",
    "        \"positive\"\n",
    "    end\n",
    "end\n",
    "\n",
    "sign_description(-2)"
   ]
  },
  {
   "cell_type": "markdown",
   "id": "52f014d0",
   "metadata": {},
   "source": [
    "### Ternary Operator\n",
    "For simple conditional assignments, the ternary operator `?:` provides a compact syntax:\n"
   ]
  },
  {
   "cell_type": "code",
   "execution_count": 39,
   "id": "006499cf",
   "metadata": {},
   "outputs": [
    {
     "data": {
      "text/plain": [
       "\"positive\""
      ]
     },
     "metadata": {},
     "output_type": "display_data"
    }
   ],
   "source": [
    "x = 5\n",
    "result = x < 0 ? \"negative\" : \"positive\"  # equivalent to if x < 0 \"negative\" else \"positive\" end"
   ]
  },
  {
   "cell_type": "markdown",
   "id": "dc486da3",
   "metadata": {},
   "source": [
    "### Logical Operators\n",
    "Julia provides standard logical operators:\n",
    "- `&&` (AND)\n",
    "- `||` (OR)\n",
    "- `!` (NOT)"
   ]
  },
  {
   "cell_type": "code",
   "execution_count": 40,
   "id": "657b5fde",
   "metadata": {},
   "outputs": [
    {
     "name": "stdout",
     "output_type": "stream",
     "text": [
      "both conditions are true\n"
     ]
    }
   ],
   "source": [
    "x = 5\n",
    "y = 10\n",
    "\n",
    "if x > 0 && y < 20\n",
    "    println(\"both conditions are true\")\n",
    "end"
   ]
  },
  {
   "cell_type": "markdown",
   "id": "a955ac64",
   "metadata": {},
   "source": [
    "## Loops\n",
    "Julia's for loops can iterate over any iterable object:\n"
   ]
  },
  {
   "cell_type": "code",
   "execution_count": 41,
   "id": "1b84d040",
   "metadata": {},
   "outputs": [
    {
     "name": "stdout",
     "output_type": "stream",
     "text": [
      "1\n",
      "2\n",
      "3\n"
     ]
    }
   ],
   "source": [
    "# Iterate over a range \n",
    "for i in 1:3\n",
    "    println(i)\n",
    "end\n"
   ]
  },
  {
   "cell_type": "code",
   "execution_count": 42,
   "id": "7114803a",
   "metadata": {},
   "outputs": [
    {
     "name": "stdout",
     "output_type": "stream",
     "text": [
      "1\n",
      "2\n",
      "3\n",
      "4\n"
     ]
    }
   ],
   "source": [
    "# Iterate over a vector\n",
    "for i in numbers\n",
    "    println(i)\n",
    "end"
   ]
  },
  {
   "cell_type": "markdown",
   "id": "af0dba4d",
   "metadata": {},
   "source": [
    "Note (again) that Julia uses 1-based indexing for arrays (unlike Python, C, or JavaScript which use 0-based indexing):"
   ]
  },
  {
   "cell_type": "code",
   "execution_count": 43,
   "id": "40c02a7c",
   "metadata": {},
   "outputs": [
    {
     "name": "stdout",
     "output_type": "stream",
     "text": [
      "[1, 2, 3, 4]"
     ]
    }
   ],
   "source": [
    "print(numbers)\n"
   ]
  },
  {
   "cell_type": "code",
   "execution_count": 44,
   "id": "bc40a358",
   "metadata": {},
   "outputs": [
    {
     "data": {
      "text/plain": [
       "1"
      ]
     },
     "metadata": {},
     "output_type": "display_data"
    }
   ],
   "source": [
    "numbers[1]"
   ]
  },
  {
   "cell_type": "markdown",
   "id": "46f33c8f",
   "metadata": {},
   "source": [
    "## Array Comprehensions and Generators\n",
    "Julia provides a concise syntax for creating arrays based on existing collections:"
   ]
  },
  {
   "cell_type": "code",
   "execution_count": 45,
   "id": "1700e1d1",
   "metadata": {},
   "outputs": [
    {
     "data": {
      "text/plain": [
       "4-element Vector{Int64}:\n",
       "  1\n",
       "  4\n",
       "  9\n",
       " 16"
      ]
     },
     "metadata": {},
     "output_type": "display_data"
    }
   ],
   "source": [
    "squares = [x^2 for x in numbers]  "
   ]
  },
  {
   "cell_type": "markdown",
   "id": "a229d95b",
   "metadata": {},
   "source": [
    "With condition"
   ]
  },
  {
   "cell_type": "code",
   "execution_count": 46,
   "id": "3fe20a51",
   "metadata": {},
   "outputs": [
    {
     "data": {
      "text/plain": [
       "2-element Vector{Int64}:\n",
       "  4\n",
       " 16"
      ]
     },
     "metadata": {},
     "output_type": "display_data"
    }
   ],
   "source": [
    "even_squares = [x^2 for x in numbers if x % 2 == 0]  \n"
   ]
  },
  {
   "cell_type": "markdown",
   "id": "303ce4fb",
   "metadata": {},
   "source": [
    " # Modules and Imports\n",
    "\n",
    "Julia uses modules to organize code into separate namespaces. There are two main ways to access code from other modules: `using` and `import`.\n",
    "\n",
    "## Using\n",
    "`using` brings all exported names from a module into the current namespace:\n",
    "\n"
   ]
  },
  {
   "cell_type": "code",
   "execution_count": 47,
   "id": "96ff4bd8",
   "metadata": {},
   "outputs": [
    {
     "data": {
      "text/plain": [
       "2.5"
      ]
     },
     "metadata": {},
     "output_type": "display_data"
    }
   ],
   "source": [
    "using Statistics  # brings mean, std, etc. into scope\n",
    "\n",
    "mean(numbers)"
   ]
  },
  {
   "cell_type": "markdown",
   "id": "d136615d",
   "metadata": {},
   "source": [
    "## Import\n",
    "`import` brings in the module name itself, requiring explicit qualification:"
   ]
  },
  {
   "cell_type": "code",
   "execution_count": 48,
   "id": "9f293476",
   "metadata": {},
   "outputs": [
    {
     "data": {
      "text/plain": [
       "2.5"
      ]
     },
     "metadata": {},
     "output_type": "display_data"
    }
   ],
   "source": [
    "Statistics.mean(numbers)"
   ]
  },
  {
   "cell_type": "markdown",
   "id": "5f90b30d",
   "metadata": {},
   "source": [
    "The main difference is that with `import`, you always need to prefix the function with the module name, making it explicit where the function comes from. This can help avoid naming conflicts.\n",
    "\n",
    "You can also specify which function to import, in this case it is not necessary to prefix the function with the module name:"
   ]
  },
  {
   "cell_type": "code",
   "execution_count": 49,
   "id": "2357b5fb",
   "metadata": {},
   "outputs": [
    {
     "data": {
      "text/plain": [
       "2.5"
      ]
     },
     "metadata": {},
     "output_type": "display_data"
    }
   ],
   "source": [
    "import Statistics: mean \n",
    "\n",
    "mean(numbers)"
   ]
  },
  {
   "cell_type": "markdown",
   "id": "e2a81e90",
   "metadata": {},
   "source": [
    "## Common Pattern\n",
    "A common pattern in Julia packages is to use both:"
   ]
  },
  {
   "cell_type": "code",
   "execution_count": 50,
   "id": "5c2aba3e",
   "metadata": {},
   "outputs": [],
   "source": [
    "using Vahana  # for functions you use frequently, e.g. Vahana\n",
    "import Random     # for functions where you want to be explicit"
   ]
  },
  {
   "cell_type": "markdown",
   "id": "adc06d08",
   "metadata": {},
   "source": [
    "## Multiple Modules\n",
    "You can import multiple modules in one line:\n"
   ]
  },
  {
   "cell_type": "code",
   "execution_count": 51,
   "id": "ddc07986",
   "metadata": {},
   "outputs": [],
   "source": [
    "using Vahana, DataFrames\n",
    "import Random, Graphs"
   ]
  },
  {
   "cell_type": "markdown",
   "id": "5c06800d",
   "metadata": {},
   "source": [
    "Note: It's considered good practice to put all imports at the beginning of your file."
   ]
  },
  {
   "cell_type": "markdown",
   "id": "9cadebc0",
   "metadata": {},
   "source": [
    "## Exploring Module Contents\n",
    "\n",
    "The About package provides a good way to explore the contents of modules:"
   ]
  },
  {
   "cell_type": "code",
   "execution_count": 52,
   "id": "9d6108f3",
   "metadata": {},
   "outputs": [
    {
     "name": "stderr",
     "output_type": "stream",
     "text": [
      "\u001b[1mModule \u001b[91mVahana\u001b[39m\u001b[22m \u001b[90m[e9033725-1633-496a-b29a-3bc5a5543602]\u001b[39m\n",
      "  Version \u001b[91m1.3.0\u001b[39m loaded from \u001b[4m~/.julia/dev/Vahana\u001b[22m\u001b[24m\n",
      "\n",
      "\u001b[1mDirectly depends on \u001b[34m20\u001b[39m packages\u001b[22m:\n",
      "\u001b[34m•\u001b[39m MPIPreferences \u001b[90m(+1)\u001b[39m  \u001b[34m•\u001b[39m Makie \u001b[90m(+220)\u001b[39m       \u001b[34m•\u001b[39m NamedTupleTools   \n",
      "\u001b[34m•\u001b[39m MPI \u001b[90m(+38)\u001b[39m            \u001b[34m•\u001b[39m GraphMakie \u001b[90m(+46)\u001b[39m   \u001b[34m•\u001b[39m Logging           \n",
      "\u001b[34m•\u001b[39m ColorSchemes \u001b[90m(+8)\u001b[39m    \u001b[34m•\u001b[39m Colors \u001b[90m(+6)\u001b[39m        \u001b[34m•\u001b[39m Printf \u001b[90m(+1)\u001b[39m       \n",
      "\u001b[34m•\u001b[39m Graphs \u001b[90m(+25)\u001b[39m         \u001b[34m•\u001b[39m Preferences \u001b[90m(+1)\u001b[39m   \u001b[34m•\u001b[39m PrettyTables \u001b[90m(+13)\u001b[39m\n",
      "\u001b[34m•\u001b[39m LinearAlgebra \u001b[90m(+5)\u001b[39m   \u001b[34m•\u001b[39m Dates              \u001b[34m•\u001b[39m Metis \u001b[90m(+31)\u001b[39m       \n",
      "\u001b[34m•\u001b[39m StatsBase \u001b[90m(+29)\u001b[39m      \u001b[34m•\u001b[39m StaticArrays \u001b[90m(+4)\u001b[39m  \u001b[34m•\u001b[39m Requires \u001b[90m(+3)\u001b[39m     \n",
      "\u001b[34m•\u001b[39m HDF5 \u001b[90m(+38)\u001b[39m           \u001b[34m•\u001b[39m DataFrames \u001b[90m(+26)\u001b[39m \n",
      "\n",
      "\u001b[1mExports \u001b[34m89\u001b[39m names:\u001b[22m\n",
      "\u001b[34m•\u001b[39m \u001b[91mVahana\u001b[39m                       \u001b[34m•\u001b[39m \u001b[36mneighborids\u001b[39m                 \n",
      "\u001b[34m•\u001b[39m \u001b[35m@rootonly\u001b[39m                    \u001b[34m•\u001b[39m \u001b[36mneighborids_iter\u001b[39m            \n",
      "\u001b[34m•\u001b[39m \u001b[35m@roottime\u001b[39m                    \u001b[34m•\u001b[39m \u001b[36mneighborstates\u001b[39m              \n",
      "\u001b[34m•\u001b[39m \u001b[36mGlobalsDataFrame\u001b[39m             \u001b[34m•\u001b[39m \u001b[36mneighborstates_flexible\u001b[39m     \n",
      "\u001b[34m•\u001b[39m \u001b[36madd_agent!\u001b[39m                   \u001b[34m•\u001b[39m \u001b[36mneighborstates_flexible_iter\u001b[39m\n",
      "\u001b[34m•\u001b[39m \u001b[36madd_agent_per_process!\u001b[39m       \u001b[34m•\u001b[39m \u001b[36mneighborstates_iter\u001b[39m         \n",
      "\u001b[34m•\u001b[39m \u001b[36madd_agents!\u001b[39m                  \u001b[34m•\u001b[39m \u001b[36mnum_agents\u001b[39m                  \n",
      "\u001b[34m•\u001b[39m \u001b[36madd_edge!\u001b[39m                    \u001b[34m•\u001b[39m \u001b[36mnum_edges\u001b[39m                   \n",
      "\u001b[34m•\u001b[39m \u001b[36madd_edges!\u001b[39m                   \u001b[34m•\u001b[39m \u001b[36mparam\u001b[39m                       \n",
      "\u001b[34m•\u001b[39m \u001b[36madd_graph!\u001b[39m                   \u001b[34m•\u001b[39m \u001b[36mpush_global!\u001b[39m                \n",
      "\u001b[34m•\u001b[39m \u001b[36madd_raster!\u001b[39m                  \u001b[34m•\u001b[39m \u001b[36mrandom_cell\u001b[39m                 \n",
      "\u001b[34m•\u001b[39m \u001b[36magentstate\u001b[39m                   \u001b[34m•\u001b[39m \u001b[36mrandom_pos\u001b[39m                  \n",
      "\u001b[34m•\u001b[39m \u001b[36magentstate_flexible\u001b[39m          \u001b[34m•\u001b[39m \u001b[36mrastervalues\u001b[39m                \n",
      "\u001b[34m•\u001b[39m \u001b[36mall_agentids\u001b[39m                 \u001b[34m•\u001b[39m \u001b[36mread_agents\u001b[39m                 \n",
      "\u001b[34m•\u001b[39m \u001b[36mall_agents\u001b[39m                   \u001b[34m•\u001b[39m \u001b[36mread_agents!\u001b[39m                \n",
      "\u001b[34m•\u001b[39m \u001b[36mall_edges\u001b[39m                    \u001b[34m•\u001b[39m \u001b[36mread_edges\u001b[39m                  \n",
      "\u001b[34m•\u001b[39m \u001b[36mapply\u001b[39m                        \u001b[34m•\u001b[39m \u001b[36mread_edges!\u001b[39m                 \n",
      "\u001b[34m•\u001b[39m \u001b[36mapply!\u001b[39m                       \u001b[34m•\u001b[39m \u001b[36mread_globals\u001b[39m                \n",
      "\u001b[34m•\u001b[39m \u001b[36mcalc_raster\u001b[39m                  \u001b[34m•\u001b[39m \u001b[36mread_metadata\u001b[39m               \n",
      "\u001b[34m•\u001b[39m \u001b[36mcalc_rasterstate\u001b[39m             \u001b[34m•\u001b[39m \u001b[36mread_params\u001b[39m                 \n",
      "\u001b[34m•\u001b[39m \u001b[36mcellid\u001b[39m                       \u001b[34m•\u001b[39m \u001b[36mread_sim_metadata\u001b[39m           \n",
      "\u001b[34m•\u001b[39m \u001b[36mchecked\u001b[39m                      \u001b[34m•\u001b[39m \u001b[36mread_snapshot!\u001b[39m              \n",
      "\u001b[34m•\u001b[39m \u001b[36mclose_h5file!\u001b[39m                \u001b[34m•\u001b[39m \u001b[36mregister_agenttype!\u001b[39m         \n",
      "\u001b[34m•\u001b[39m \u001b[36mconnect_raster_neighbors!\u001b[39m    \u001b[34m•\u001b[39m \u001b[36mregister_edgetype!\u001b[39m          \n",
      "\u001b[34m•\u001b[39m \u001b[36mcopy_simulation\u001b[39m              \u001b[34m•\u001b[39m \u001b[36mregister_global!\u001b[39m            \n",
      "\u001b[34m•\u001b[39m \u001b[36mcreate_enum_converter\u001b[39m        \u001b[34m•\u001b[39m \u001b[36mregister_param!\u001b[39m             \n",
      "\u001b[34m•\u001b[39m \u001b[36mcreate_h5file!\u001b[39m               \u001b[34m•\u001b[39m \u001b[36mremove_edges!\u001b[39m               \n",
      "\u001b[34m•\u001b[39m \u001b[36mcreate_logger!\u001b[39m               \u001b[34m•\u001b[39m \u001b[36mset_global!\u001b[39m                 \n",
      "\u001b[34m•\u001b[39m \u001b[36mcreate_model\u001b[39m                 \u001b[34m•\u001b[39m \u001b[36mset_hdf5_path\u001b[39m               \n",
      "\u001b[34m•\u001b[39m \u001b[36mcreate_namedtuple_converter\u001b[39m  \u001b[34m•\u001b[39m \u001b[36mset_log_path\u001b[39m                \n",
      "\u001b[34m•\u001b[39m \u001b[36mcreate_simulation\u001b[39m            \u001b[34m•\u001b[39m \u001b[36mset_param!\u001b[39m                  \n",
      "\u001b[34m•\u001b[39m \u001b[36mcreate_string_converter\u001b[39m      \u001b[34m•\u001b[39m \u001b[36mshow_agent\u001b[39m                  \n",
      "\u001b[34m•\u001b[39m \u001b[36mdetect_stateless\u001b[39m             \u001b[34m•\u001b[39m \u001b[36msuppress_warnings\u001b[39m           \n",
      "\u001b[34m•\u001b[39m \u001b[36medges\u001b[39m                        \u001b[34m•\u001b[39m \u001b[36mvahanagraph\u001b[39m                 \n",
      "\u001b[34m•\u001b[39m \u001b[36medgestates\u001b[39m                   \u001b[34m•\u001b[39m \u001b[36mvahanasimplegraph\u001b[39m           \n",
      "\u001b[34m•\u001b[39m \u001b[36medgestates_iter\u001b[39m              \u001b[34m•\u001b[39m \u001b[36mwrite_agents\u001b[39m                \n",
      "\u001b[34m•\u001b[39m \u001b[36menable_asserts\u001b[39m               \u001b[34m•\u001b[39m \u001b[36mwrite_edges\u001b[39m                 \n",
      "\u001b[34m•\u001b[39m \u001b[36mfinish_init!\u001b[39m                 \u001b[34m•\u001b[39m \u001b[36mwrite_globals\u001b[39m               \n",
      "\u001b[34m•\u001b[39m \u001b[36mfinish_simulation!\u001b[39m           \u001b[34m•\u001b[39m \u001b[36mwrite_metadata\u001b[39m              \n",
      "\u001b[34m•\u001b[39m \u001b[36mget_global\u001b[39m                   \u001b[34m•\u001b[39m \u001b[36mwrite_sim_metadata\u001b[39m          \n",
      "\u001b[34m•\u001b[39m \u001b[36mhas_edge\u001b[39m                     \u001b[34m•\u001b[39m \u001b[36mwrite_snapshot\u001b[39m              \n",
      "\u001b[34m•\u001b[39m \u001b[36mlist_snapshots\u001b[39m               \u001b[34m•\u001b[39m \u001b[33mEdge\u001b[39m                        \n",
      "\u001b[34m•\u001b[39m \u001b[36mlog_overview\u001b[39m                 \u001b[34m•\u001b[39m \u001b[33mModelTypes\u001b[39m                  \n",
      "\u001b[34m•\u001b[39m \u001b[36mmodify_global!\u001b[39m               \u001b[34m•\u001b[39m \u001b[36mmpi\u001b[39m                         \n",
      "\u001b[34m•\u001b[39m \u001b[36mmove_to!\u001b[39m                   \n",
      "\n",
      "\u001b[1mRe-exports \u001b[34m5\u001b[39m names\u001b[22m (from \u001b[91mBase\u001b[39m, \u001b[91mCore\u001b[39m, \u001b[91mDataFrames\u001b[39m)\u001b[1m:\u001b[22m\n",
      "\u001b[34m•\u001b[39m \u001b[36mmapreduce\u001b[39m  \u001b[34m•\u001b[39m \u001b[36mwith_logger\u001b[39m  \u001b[34m•\u001b[39m \u001b[33mAgentID\u001b[39m  \u001b[34m•\u001b[39m \u001b[33mDataFrame\u001b[39m  \u001b[34m•\u001b[39m \u001b[33mProcessID\u001b[39m\n"
     ]
    }
   ],
   "source": [
    "using About, Vahana\n",
    "about(Vahana)"
   ]
  },
  {
   "cell_type": "markdown",
   "id": "4cc7b8e0",
   "metadata": {},
   "source": [
    "# Functions/Packages Used in the Workshop Exercises\n",
    "\n",
    "## Random Operations\n",
    "Random number generation is used frequently in agent-based models:\n"
   ]
  },
  {
   "cell_type": "code",
   "execution_count": 53,
   "id": "04f0aed4",
   "metadata": {},
   "outputs": [
    {
     "data": {
      "text/plain": [
       "0.5230595839288231"
      ]
     },
     "metadata": {},
     "output_type": "display_data"
    }
   ],
   "source": [
    "rand() # Float64 between 0 and 1"
   ]
  },
  {
   "cell_type": "code",
   "execution_count": 54,
   "id": "1efc668c",
   "metadata": {},
   "outputs": [
    {
     "data": {
      "text/plain": [
       "2"
      ]
     },
     "metadata": {},
     "output_type": "display_data"
    }
   ],
   "source": [
    "rand(numbers) # draw a random element from a collection"
   ]
  },
  {
   "cell_type": "markdown",
   "id": "f7bddf98",
   "metadata": {},
   "source": [
    "For sampling without replacement, use sample from StatsBase:"
   ]
  },
  {
   "cell_type": "code",
   "execution_count": 55,
   "id": "44685fc1",
   "metadata": {},
   "outputs": [
    {
     "data": {
      "text/plain": [
       "8-element Vector{Int64}:\n",
       "  7\n",
       "  3\n",
       "  5\n",
       "  6\n",
       "  9\n",
       "  8\n",
       "  1\n",
       " 10"
      ]
     },
     "metadata": {},
     "output_type": "display_data"
    }
   ],
   "source": [
    "import StatsBase: sample\n",
    "sample(1:10, 8; replace=false)  # 8 unique numbers between 1 and 10\n"
   ]
  },
  {
   "cell_type": "markdown",
   "id": "0d457021",
   "metadata": {},
   "source": [
    "## Benchmarking\n",
    "### using @time\n",
    "\n",
    "Julia compiles functions on their first call, which can lead to misleading timing results. "
   ]
  },
  {
   "cell_type": "code",
   "execution_count": null,
   "id": "06f67886",
   "metadata": {},
   "outputs": [
    {
     "name": "stdout",
     "output_type": "stream",
     "text": [
      "  0.633802 seconds (1.21 M allocations: 61.460 MiB, 15.96% gc time, 93.03% compilation time: 2% of which was recompilation)\n"
     ]
    },
    {
     "data": {
      "text/plain": [
       "\n",
       "\u001b[35mModel Name: BenchmarkExamle\u001b[39m\n",
       "\u001b[35mSimulation Name: BenchmarkExamle\u001b[39m\n",
       "\u001b[36mAgent(s):\u001b[39m\n",
       "\t Type Agent with 0 agent(s)\n",
       "\u001b[31mStill in initialization process!.\u001b[39m"
      ]
     },
     "metadata": {},
     "output_type": "display_data"
    }
   ],
   "source": [
    "using Vahana\n",
    "\n",
    "struct Agent end\n",
    "\n",
    "@time ModelTypes() |> register_agenttype!(Agent) |> create_model(\"BenchmarkExample\") |> create_simulation() "
   ]
  },
  {
   "cell_type": "code",
   "execution_count": null,
   "id": "cc78155f",
   "metadata": {},
   "outputs": [
    {
     "name": "stdout",
     "output_type": "stream",
     "text": [
      "  0.063851 seconds (83.89 k allocations: 3.967 MiB, 26.21% compilation time)\n"
     ]
    },
    {
     "data": {
      "text/plain": [
       "\n",
       "\u001b[35mModel Name: BenchmarkExamle\u001b[39m\n",
       "\u001b[35mSimulation Name: BenchmarkExamle\u001b[39m\n",
       "\u001b[36mAgent(s):\u001b[39m\n",
       "\t Type Agent with 0 agent(s)\n",
       "\u001b[31mStill in initialization process!.\u001b[39m"
      ]
     },
     "metadata": {},
     "output_type": "display_data"
    }
   ],
   "source": [
    "@time ModelTypes() |> register_agenttype!(Agent) |> create_model(\"BenchmarkExample\") |> create_simulation() "
   ]
  },
  {
   "cell_type": "markdown",
   "id": "e2aa1e12",
   "metadata": {},
   "source": [
    "\n",
    "### using BenchmarkTools (or Chairmarks)\n",
    "The BenchmarkTools package provides robust performance measurements, automatically handling warmup \n",
    "(compilation) and running multiple trials for statistical analysis:"
   ]
  },
  {
   "cell_type": "code",
   "execution_count": 64,
   "id": "a4ded08c",
   "metadata": {},
   "outputs": [
    {
     "data": {
      "text/plain": [
       "BenchmarkTools.Trial: 95 samples with 1 evaluation.\n",
       " Range \u001b[90m(\u001b[39m\u001b[36m\u001b[1mmin\u001b[22m\u001b[39m … \u001b[35mmax\u001b[39m\u001b[90m):  \u001b[39m\u001b[36m\u001b[1m49.816 ms\u001b[22m\u001b[39m … \u001b[35m98.437 ms\u001b[39m  \u001b[90m┊\u001b[39m GC \u001b[90m(\u001b[39mmin … max\u001b[90m): \u001b[39m0.00% … 14.47%\n",
       " Time  \u001b[90m(\u001b[39m\u001b[34m\u001b[1mmedian\u001b[22m\u001b[39m\u001b[90m):     \u001b[39m\u001b[34m\u001b[1m51.651 ms              \u001b[22m\u001b[39m\u001b[90m┊\u001b[39m GC \u001b[90m(\u001b[39mmedian\u001b[90m):    \u001b[39m0.00%\n",
       " Time  \u001b[90m(\u001b[39m\u001b[32m\u001b[1mmean\u001b[22m\u001b[39m ± \u001b[32mσ\u001b[39m\u001b[90m):   \u001b[39m\u001b[32m\u001b[1m52.579 ms\u001b[22m\u001b[39m ± \u001b[32m 6.597 ms\u001b[39m  \u001b[90m┊\u001b[39m GC \u001b[90m(\u001b[39mmean ± σ\u001b[90m):  \u001b[39m0.54% ±  2.02%\n",
       "\n",
       "  \u001b[39m \u001b[39m▃\u001b[34m█\u001b[39m\u001b[39m \u001b[32m \u001b[39m\u001b[39m \u001b[39m \u001b[39m \u001b[39m \u001b[39m \u001b[39m \u001b[39m \u001b[39m \u001b[39m \u001b[39m \u001b[39m \u001b[39m \u001b[39m \u001b[39m \u001b[39m \u001b[39m \u001b[39m \u001b[39m \u001b[39m \u001b[39m \u001b[39m \u001b[39m \u001b[39m \u001b[39m \u001b[39m \u001b[39m \u001b[39m \u001b[39m \u001b[39m \u001b[39m \u001b[39m \u001b[39m \u001b[39m \u001b[39m \u001b[39m \u001b[39m \u001b[39m \u001b[39m \u001b[39m \u001b[39m \u001b[39m \u001b[39m \u001b[39m \u001b[39m \u001b[39m \u001b[39m \u001b[39m \u001b[39m \u001b[39m \u001b[39m \u001b[39m \u001b[39m \u001b[39m \u001b[39m \u001b[39m \u001b[39m \n",
       "  \u001b[39m▄\u001b[39m█\u001b[34m█\u001b[39m\u001b[39m█\u001b[32m▃\u001b[39m\u001b[39m▁\u001b[39m▁\u001b[39m▁\u001b[39m▁\u001b[39m▁\u001b[39m▁\u001b[39m▁\u001b[39m▁\u001b[39m▁\u001b[39m▁\u001b[39m▁\u001b[39m▁\u001b[39m▁\u001b[39m▁\u001b[39m▁\u001b[39m▁\u001b[39m▁\u001b[39m▁\u001b[39m▁\u001b[39m▁\u001b[39m▁\u001b[39m▁\u001b[39m▁\u001b[39m▁\u001b[39m▁\u001b[39m▁\u001b[39m▁\u001b[39m▁\u001b[39m▁\u001b[39m▁\u001b[39m▁\u001b[39m▁\u001b[39m▁\u001b[39m▁\u001b[39m▁\u001b[39m▁\u001b[39m▁\u001b[39m▁\u001b[39m▁\u001b[39m▁\u001b[39m▁\u001b[39m▁\u001b[39m▁\u001b[39m▁\u001b[39m▁\u001b[39m▁\u001b[39m▁\u001b[39m▁\u001b[39m▁\u001b[39m▁\u001b[39m▁\u001b[39m▁\u001b[39m▁\u001b[39m▂\u001b[39m \u001b[39m▁\n",
       "  49.8 ms\u001b[90m         Histogram: frequency by time\u001b[39m        95.6 ms \u001b[0m\u001b[1m<\u001b[22m\n",
       "\n",
       " Memory estimate\u001b[90m: \u001b[39m\u001b[33m3.58 MiB\u001b[39m, allocs estimate\u001b[90m: \u001b[39m\u001b[33m75808\u001b[39m."
      ]
     },
     "metadata": {},
     "output_type": "display_data"
    }
   ],
   "source": [
    "using BenchmarkTools\n",
    "@benchmark ModelTypes() |> register_agenttype!(Agent) |> create_model(\"BenchmarkExample\") |> create_simulation()"
   ]
  },
  {
   "cell_type": "code",
   "execution_count": null,
   "id": "a3758774",
   "metadata": {},
   "outputs": [],
   "source": []
  }
 ],
 "metadata": {
  "kernelspec": {
   "display_name": "Julia 1.11.1",
   "language": "julia",
   "name": "julia-1.11"
  },
  "language_info": {
   "file_extension": ".jl",
   "mimetype": "application/julia",
   "name": "julia",
   "version": "1.11.1"
  }
 },
 "nbformat": 4,
 "nbformat_minor": 5
}
